{
 "metadata": {
  "name": "LADEE Observing"
 },
 "nbformat": 3,
 "nbformat_minor": 0,
 "worksheets": [
  {
   "cells": [
    {
     "cell_type": "code",
     "collapsed": false,
     "input": [
      "import ephem"
     ],
     "language": "python",
     "metadata": {},
     "outputs": [],
     "prompt_number": 53
    },
    {
     "cell_type": "code",
     "collapsed": false,
     "input": [
      "# Set observation location - select key from list below\n",
      "location = 'hilo'\n",
      "\n",
      "# Add more locations as needed\n",
      "observer_locations = {\n",
      "    'hilo': {\n",
      "        #'lon': '-155.1413',\n",
      "        #'lat': '19.6976',\n",
      "        'lon': '-155:05:23:99',\n",
      "        'lat': '19:42:00:00',\n",
      "        'elevation': 88 , # meters\n",
      "        'temp': 23, # celsius\n",
      "        'pressure': 1010 # This is default but also a guess\n",
      "     },\n",
      "    'vis': {\n",
      "        'lon': '-155:27:52:35', \n",
      "        'lat': '19:45:42:96',\n",
      "        'elevation': 2848.5, # meters\n",
      "        'temp': 15, # celsius - this is a guess\n",
      "        'pressure': 700 #this is a guess            \n",
      "    },\n",
      "}"
     ],
     "language": "python",
     "metadata": {},
     "outputs": [],
     "prompt_number": 54
    },
    {
     "cell_type": "code",
     "collapsed": false,
     "input": [
      "# Building an Observer to watch the moon. Shouldn't need to change anything here. Move along.\n",
      "\n",
      "# Get the settings for our location\n",
      "location_settings = observer_locations[location]\n",
      "\n",
      "# Setup our observer from our given location\n",
      "observer = ephem.Observer()\n",
      "\n",
      "observer.lat = location_settings['lat']\n",
      "observer.lon = location_settings['lon']\n",
      "observer.elevation = location_settings['elevation']\n",
      "observer.temp = location_settings['temp']\n",
      "observer.pressure = location_settings['pressure']\n",
      "observer.date = ephem.now()"
     ],
     "language": "python",
     "metadata": {},
     "outputs": [],
     "prompt_number": 55
    },
    {
     "cell_type": "code",
     "collapsed": false,
     "input": [
      "# Create our Moon and look at it from our observer location\n",
      "moon = ephem.Moon(observer)"
     ],
     "language": "python",
     "metadata": {},
     "outputs": [],
     "prompt_number": 56
    },
    {
     "cell_type": "code",
     "collapsed": false,
     "input": [
      "from ephem import stars\n",
      "\n",
      "def find_nearest_star():\n",
      "    star_sep = {name:ephem.separation(moon,star) for name,star in stars.stars.items()}\n",
      "    min_star_name = min(star_sep, key = lambda k: star_sep[k])\n",
      "    min_star_sep = star_sep[min_star_name]\n",
      "    min_star = stars.star(min_star_name)\n",
      "    min_star.compute(observer)\n",
      "    print(min_star_name, min_star_sep)\n",
      "    return min_star\n",
      "\n",
      "find_nearest_star()"
     ],
     "language": "python",
     "metadata": {},
     "outputs": [
      {
       "output_type": "stream",
       "stream": "stdout",
       "text": [
        "Nunki 8:28:50.9\n"
       ]
      },
      {
       "output_type": "pyout",
       "prompt_number": 58,
       "text": [
        "<ephem.FixedBody 'Nunki' at 0x7fb6205aa840>"
       ]
      }
     ],
     "prompt_number": 58
    }
   ],
   "metadata": {}
  }
 ]
}